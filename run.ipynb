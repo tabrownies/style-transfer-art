{
 "cells": [
  {
   "cell_type": "code",
   "execution_count": 1,
   "metadata": {},
   "outputs": [
    {
     "name": "stderr",
     "output_type": "stream",
     "text": [
      "/Users/timothybrown/Library/Python/3.9/lib/python/site-packages/urllib3/__init__.py:34: NotOpenSSLWarning: urllib3 v2 only supports OpenSSL 1.1.1+, currently the 'ssl' module is compiled with 'LibreSSL 2.8.3'. See: https://github.com/urllib3/urllib3/issues/3020\n",
      "  warnings.warn(\n"
     ]
    }
   ],
   "source": [
    "from PIL import Image, ImageFilter\n",
    "from styletransfer import style_transfer\n",
    "import os\n"
   ]
  },
  {
   "cell_type": "code",
   "execution_count": 2,
   "metadata": {},
   "outputs": [],
   "source": [
    "def resize_and_crop_images(style_image_name, content_image_name, style_image_directory, content_image_directory, resize_style_image_directory, resize_content_image_directory):\n",
    "    style_image_path = os.path.join(style_image_directory, style_image_name)\n",
    "    content_image_path = os.path.join(content_image_directory, content_image_name)\n",
    "    \n",
    "    # Open images\n",
    "    style_image = Image.open(style_image_path)\n",
    "    content_image = Image.open(content_image_path)\n",
    "\n",
    "    # Get the sizes of the images\n",
    "    style_width, style_height = style_image.size\n",
    "    content_width, content_height = content_image.size\n",
    "\n",
    "    # Calculate the maximum dimensions\n",
    "    max_width = max(style_width, content_width)\n",
    "    max_height = max(style_height, content_height)\n",
    "\n",
    "    # Calculate the cropping box to center the images\n",
    "    left_style = (style_width - max_width) // 2\n",
    "    top_style = (style_height - max_height) // 2\n",
    "    right_style = (style_width + max_width) // 2\n",
    "    bottom_style = (style_height + max_height) // 2\n",
    "\n",
    "    left_content = (content_width - max_width) // 2\n",
    "    top_content = (content_height - max_height) // 2\n",
    "    right_content = (content_width + max_width) // 2\n",
    "    bottom_content = (content_height + max_height) // 2\n",
    "\n",
    "    # Crop images\n",
    "    cropped_style_image = style_image.crop((left_style, top_style, right_style, bottom_style))\n",
    "    cropped_content_image = content_image.crop((left_content, top_content, right_content, bottom_content))\n",
    "\n",
    "    # Save or display the cropped images\n",
    "    cropped_style_image.save(os.path.join(resize_style_image_directory, style_image_name))  \n",
    "    cropped_content_image.save(os.path.join(resize_content_image_directory, content_image_name))\n",
    "\n",
    "# Example usage\n",
    "resize_and_crop_images('madonna.jpeg', 'cosmo.jpeg', 'images/style', 'images/content', 'images/style_resize/', 'images/content_resize/')\n"
   ]
  },
  {
   "cell_type": "code",
   "execution_count": 6,
   "metadata": {},
   "outputs": [],
   "source": [
    "def resize_images(style_image_name, content_image_name, style_image_directory, content_image_directory, resize_style_image_directory, resize_content_image_directory):\n",
    "    style_image_path = os.path.join(style_image_directory,style_image_name)\n",
    "    content_image_path = os.path.join(content_image_directory,content_image_name)\n",
    "    \n",
    "    # Open images\n",
    "    style_image = Image.open(style_image_path)\n",
    "    content_image = Image.open(content_image_path)\n",
    "\n",
    "    # Get the sizes of the images\n",
    "    style_width, style_height = style_image.size\n",
    "    content_width, content_height = content_image.size\n",
    "\n",
    "    # Calculate the maximum width and height\n",
    "    max_width = max(style_width, content_width)\n",
    "    max_height = max(style_height, content_height)\n",
    "\n",
    "    # Resize images to the maximum size\n",
    "    resized_style_image = style_image.resize((max_width, max_height))\n",
    "    resized_content_image = content_image.resize((max_width, max_height))\n",
    "\n",
    "    # Save or display the resized images\n",
    "    resized_style_image.save(os.path.join(resize_style_image_directory,style_image_name))  \n",
    "    resized_content_image.save(os.path.join(resize_content_image_directory,content_image_name))  \n",
    "\n",
    "\n",
    "resize_images('madonna.jpeg','cosmo.jpeg','images/style','images/content','images/style_resize/','images/content_resize/')\n"
   ]
  },
  {
   "cell_type": "code",
   "execution_count": 12,
   "metadata": {},
   "outputs": [
    {
     "name": "stdout",
     "output_type": "stream",
     "text": [
      "images/content/timothy.jpg images/style/madonna.jpeg\n",
      "images/content/timothy.jpg images/style/duraeuropa.jpg\n",
      "images/content/cosmo.jpeg images/style/madonna.jpeg\n",
      "images/content/cosmo.jpeg images/style/duraeuropa.jpg\n"
     ]
    }
   ],
   "source": [
    "content_dir = 'images/content'\n",
    "style_dir = 'images/style'\n",
    "content_resize_dir = 'images/content_resize'\n",
    "style_resize_dir = 'images/style_resize'\n",
    "for content_image_name in os.listdir(content_dir):\n",
    "    content_image_path = os.path.join(content_dir,content_image_name)\n",
    "    for style_image_name in os.listdir(style_dir):\n",
    "        style_image_path = os.path.join(style_dir,style_image_name)\n",
    "        resize_images(content_image_directory=content_dir,style_image_directory=style_dir,resize_content_image_directory=content_resize_dir, resize_style_image_directory=style_resize_dir, content_image_name=content_image_name,style_image_name=style_image_name)\n",
    "        print(content_image_path, style_image_path)\n",
    "        break\n",
    "    break\n",
    "\n",
    "# style_transfer('images/style_resize/madonna.jpeg','images/content_resize/cosmo.jpeg', True)"
   ]
  },
  {
   "cell_type": "code",
   "execution_count": null,
   "metadata": {},
   "outputs": [],
   "source": []
  }
 ],
 "metadata": {
  "kernelspec": {
   "display_name": "Python 3",
   "language": "python",
   "name": "python3"
  },
  "language_info": {
   "codemirror_mode": {
    "name": "ipython",
    "version": 3
   },
   "file_extension": ".py",
   "mimetype": "text/x-python",
   "name": "python",
   "nbconvert_exporter": "python",
   "pygments_lexer": "ipython3",
   "version": "3.9.6"
  }
 },
 "nbformat": 4,
 "nbformat_minor": 2
}

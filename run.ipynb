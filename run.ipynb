{
 "cells": [
  {
   "cell_type": "code",
   "execution_count": 2,
   "metadata": {},
   "outputs": [
    {
     "name": "stderr",
     "output_type": "stream",
     "text": [
      "/Users/timothybrown/Library/Python/3.9/lib/python/site-packages/urllib3/__init__.py:34: NotOpenSSLWarning: urllib3 v2 only supports OpenSSL 1.1.1+, currently the 'ssl' module is compiled with 'LibreSSL 2.8.3'. See: https://github.com/urllib3/urllib3/issues/3020\n",
      "  warnings.warn(\n"
     ]
    }
   ],
   "source": [
    "from PIL import Image, ImageFilter\n",
    "from styletransfer import style_transfer\n",
    "import os"
   ]
  },
  {
   "cell_type": "code",
   "execution_count": 3,
   "metadata": {},
   "outputs": [],
   "source": [
    "def resize_and_crop_images(style_image_name, content_image_name, style_image_directory, content_image_directory, resize_style_image_directory, resize_content_image_directory):\n",
    "    style_image_path = os.path.join(style_image_directory, style_image_name)\n",
    "    content_image_path = os.path.join(content_image_directory, content_image_name)\n",
    "    \n",
    "    # Open images\n",
    "    style_image = Image.open(style_image_path)\n",
    "    content_image = Image.open(content_image_path)\n",
    "\n",
    "    # Get the sizes of the images\n",
    "    style_width, style_height = style_image.size\n",
    "    content_width, content_height = content_image.size\n",
    "\n",
    "    # Calculate the maximum dimensions\n",
    "    max_width = max(style_width, content_width)\n",
    "    max_height = max(style_height, content_height)\n",
    "\n",
    "    # Calculate the cropping box to center the images\n",
    "    left_style = (style_width - max_width) // 2\n",
    "    top_style = (style_height - max_height) // 2\n",
    "    right_style = (style_width + max_width) // 2\n",
    "    bottom_style = (style_height + max_height) // 2\n",
    "\n",
    "    left_content = (content_width - max_width) // 2\n",
    "    top_content = (content_height - max_height) // 2\n",
    "    right_content = (content_width + max_width) // 2\n",
    "    bottom_content = (content_height + max_height) // 2\n",
    "\n",
    "    # Crop images\n",
    "    cropped_style_image = style_image.crop((left_style, top_style, right_style, bottom_style))\n",
    "    cropped_content_image = content_image.crop((left_content, top_content, right_content, bottom_content))\n",
    "\n",
    "    # Save or display the cropped images\n",
    "    cropped_style_image.save(os.path.join(resize_style_image_directory, style_image_name))  \n",
    "    cropped_content_image.save(os.path.join(resize_content_image_directory, content_image_name))\n",
    "\n",
    "# Example usage\n",
    "resize_and_crop_images('madonna.jpeg', 'cosmo.jpeg', 'images/style', 'images/content', 'images/style_resize/', 'images/content_resize/')\n"
   ]
  },
  {
   "cell_type": "code",
   "execution_count": 4,
   "metadata": {},
   "outputs": [],
   "source": [
    "def resize_images(style_image_name, content_image_name, style_image_directory, content_image_directory, resize_style_image_directory, resize_content_image_directory):\n",
    "    style_image_path = os.path.join(style_image_directory,style_image_name)\n",
    "    content_image_path = os.path.join(content_image_directory,content_image_name)\n",
    "    \n",
    "    # Open images\n",
    "    style_image = Image.open(style_image_path)\n",
    "    content_image = Image.open(content_image_path)\n",
    "\n",
    "    # Get the sizes of the images\n",
    "    style_width, style_height = style_image.size\n",
    "    content_width, content_height = content_image.size\n",
    "\n",
    "    # Calculate the maximum width and height\n",
    "    max_width = max(style_width, content_width)\n",
    "    max_height = max(style_height, content_height)\n",
    "\n",
    "    # Resize images to the maximum size\n",
    "    resized_style_image = style_image.resize((max_width, max_height))\n",
    "    resized_content_image = content_image.resize((max_width, max_height))\n",
    "\n",
    "    # Save or display the resized images\n",
    "    resized_style_image.save(os.path.join(resize_style_image_directory,style_image_name))  \n",
    "    resized_content_image.save(os.path.join(resize_content_image_directory,content_image_name))  \n",
    "\n",
    "\n",
    "resize_images('madonna.jpeg','cosmo.jpeg','images/style','images/content','images/style_resize/','images/content_resize/')\n"
   ]
  },
  {
   "cell_type": "code",
   "execution_count": 6,
   "metadata": {},
   "outputs": [
    {
     "name": "stdout",
     "output_type": "stream",
     "text": [
      "Building the style transfer model..\n",
      "Optimizing..\n"
     ]
    },
    {
     "name": "stderr",
     "output_type": "stream",
     "text": [
      "/Users/timothybrown/Library/Python/3.9/lib/python/site-packages/torch/utils/_device.py:77: UserWarning: To copy construct from a tensor, it is recommended to use sourceTensor.clone().detach() or sourceTensor.clone().detach().requires_grad_(True), rather than torch.tensor(sourceTensor).\n",
      "  return func(*args, **kwargs)\n"
     ]
    },
    {
     "name": "stdout",
     "output_type": "stream",
     "text": [
      "run [50]:\n",
      "Style Loss : 208.510986 Content Loss: 24.515320\n",
      "\n",
      "run [100]:\n",
      "Style Loss : 104.912468 Content Loss: 25.244215\n",
      "\n",
      "run [150]:\n",
      "Style Loss : 62.725056 Content Loss: 25.467403\n",
      "\n",
      "run [200]:\n",
      "Style Loss : 40.026600 Content Loss: 24.973276\n",
      "\n",
      "run [250]:\n",
      "Style Loss : 28.202721 Content Loss: 24.106661\n",
      "\n",
      "run [300]:\n",
      "Style Loss : 21.489927 Content Loss: 23.494919\n",
      "\n"
     ]
    }
   ],
   "source": [
    "style_transfer('images/style_resize/madonna.jpeg','images/content_resize/cosmo.jpeg', True)"
   ]
  },
  {
   "cell_type": "code",
   "execution_count": null,
   "metadata": {},
   "outputs": [],
   "source": []
  }
 ],
 "metadata": {
  "kernelspec": {
   "display_name": "Python 3",
   "language": "python",
   "name": "python3"
  },
  "language_info": {
   "codemirror_mode": {
    "name": "ipython",
    "version": 3
   },
   "file_extension": ".py",
   "mimetype": "text/x-python",
   "name": "python",
   "nbconvert_exporter": "python",
   "pygments_lexer": "ipython3",
   "version": "3.9.6"
  }
 },
 "nbformat": 4,
 "nbformat_minor": 2
}
